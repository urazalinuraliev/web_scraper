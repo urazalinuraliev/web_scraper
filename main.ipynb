{
  "nbformat": 4,
  "nbformat_minor": 0,
  "metadata": {
    "colab": {
      "name": "Web.Scraper",
      "provenance": [],
      "authorship_tag": "ABX9TyM3qOcNHPhJkv6OXwT7vgt1",
      "include_colab_link": true
    },
    "kernelspec": {
      "name": "python3",
      "display_name": "Python 3"
    },
    "language_info": {
      "name": "python"
    }
  },
  "cells": [
    {
      "cell_type": "markdown",
      "metadata": {
        "id": "view-in-github",
        "colab_type": "text"
      },
      "source": [
        "<a href=\"https://colab.research.google.com/github/urazalinuraliev/web_scraper/blob/main/main.ipynb\" target=\"_parent\"><img src=\"https://colab.research.google.com/assets/colab-badge.svg\" alt=\"Open In Colab\"/></a>"
      ]
    },
    {
      "cell_type": "code",
      "execution_count": 1,
      "metadata": {
        "id": "UnnS7LbhHvPa"
      },
      "outputs": [],
      "source": [
        "# import requests\n",
        "# import pandas as pd\n",
        "# import matplotlib.pyplot as plt\n",
        "# from bs4 import BeautifulSoup as bs\n",
        "\n",
        "\n",
        "# url = requests.get('https://kun.uz/uz').text\n",
        "# soup = bs(url, 'html.parser').find_all(\"a\", class_='news-lenta')\n",
        "\n",
        "# # re = requests.get('https://kun.uz'+str(soup[0]).split()[2][6:-2]).text\n",
        "# # a = bs(re, 'html.parser').select_one(\"div.single-content\").text.split()\n",
        "# # print(a)"
      ]
    },
    {
      "cell_type": "code",
      "source": [
        "import requests\n",
        "import pandas as pd\n",
        "import matplotlib.pyplot as plt\n",
        "from bs4 import BeautifulSoup as bs\n",
        "\n",
        "\n",
        "url = requests.get('https://kun.uz/uz').text\n",
        "soup = bs(url, 'html.parser').find_all(\"a\", class_='news-lenta')\n",
        "\n",
        "# re = requests.get('https://kun.uz'+str(soup[0]).split()[2][6:-2]).text\n",
        "# a = bs(re, 'html.parser').select_one(\"div.single-content\").text.split()\n",
        "# print(a)\n",
        "result = []\n",
        "get2 = bs(requests.get('https://kun.uz'+str(soup[0]).split()[2][6:-2]).text, 'html.parser')\n",
        "html = get2.find('div', class_='single-layout__center slc')\n",
        "title = html.find_all('h4')\n",
        "texts = html.find_all('p')\n",
        "\n",
        "all_text = []\n",
        "\n",
        "for i in title:\n",
        "  all_text.append(i.text)\n",
        "\n",
        "for i in texts:\n",
        "  all_text.append(i.text)\n",
        "\n",
        "all_text = ' '.join(all_text)\n",
        "\n",
        "\n",
        "\n",
        "l  = ['“','”',', ','–','ham','. ','...','…','va','\"', '2022', 'i','qilib', 'di', 'qilish','\\xa0','yo‘q','bilan','degan', '/', 'men', 'man', 'sen', 'san', 'yoki', 'uchun', 'r', 'balki', '-', 'bu', 'dedi', 'asos', 'ammo', \"o'sha\", 'beri', 'hamda', 'edi', 'kerak', \"bo'lgan\", 'ham', 'foto:', 'kun.uz', \"o'z\", 'yil','deb', 'esa', 'shu', 'yana', 'keyin', '11']\n",
        "\n",
        "for i in range(3):\n",
        "  for j in range(len(l)):\n",
        "    all_text = all_text.replace(l[j], ' ')\n",
        "\n",
        "\n",
        "all_text = all_text.split()\n",
        "\n",
        "result = {}\n",
        "\n",
        "for i in all_text:\n",
        "  result[i] = all_text.count(i)\n",
        "  all_text.remove(i)\n",
        "\n",
        "\n",
        "data = pd.Series(result).reset_index()\n",
        "\n",
        "data.columns = ['sozlar', 'soni']\n",
        "\n",
        "data = data.sort_values(by='soni', ascending=False)[:10]\n",
        "\n",
        "\n",
        "plt.figure(figsize =(10, 4))\n",
        "plt.bar(data['sozlar'], data['soni'], width=0.6)\n",
        "plt.show()\n",
        "# all_text"
      ],
      "metadata": {
        "colab": {
          "base_uri": "https://localhost:8080/",
          "height": 265
        },
        "id": "p4Y9OY0NIJUv",
        "outputId": "ffef8175-018a-44f3-8de1-3d047bec116e"
      },
      "execution_count": 2,
      "outputs": [
        {
          "output_type": "display_data",
          "data": {
            "text/plain": [
              "<Figure size 720x288 with 1 Axes>"
            ],
            "image/png": "[encoded data removed]"
          },
          "metadata": {
            "needs_background": "light"
          }
        }
      ]
    },
    {
      "cell_type": "code",
      "source": [
        ""
      ],
      "metadata": {
        "id": "AcahhqakYGwk"
      },
      "execution_count": 2,
      "outputs": []
    }
  ]
}